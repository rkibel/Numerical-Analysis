{
 "cells": [
  {
   "cell_type": "code",
   "execution_count": 1,
   "id": "44159e25",
   "metadata": {},
   "outputs": [],
   "source": [
    "# 3.5\n",
    "\n",
    "import math\n",
    "import numpy as np\n",
    "from sympy import *\n",
    "from sympy.plotting import plot\n",
    "from sympy.plotting.plot import MatplotlibBackend, Plot\n",
    "import matplotlib\n",
    "# %matplotlib inline \n",
    "# %matplotlib ipympl\n",
    "%matplotlib tk \n",
    "\n",
    "import matplotlib.pyplot as plt\n",
    "\n",
    "x = symbols('x')\n",
    "\n",
    "def naturalspline(vec_x, vec_f):\n",
    "    n = np.size(vec_x) - 1\n",
    "    b, c, d, h, alpha, l, mu, z = (np.zeros(n+1) for i in range(8))\n",
    "    for i in range(n):\n",
    "        h[i] = vec_x[i+1] - vec_x[i]\n",
    "    for i in range(1, n):\n",
    "        alpha[i] = 3.0/h[i] * (vec_f[i+1] - vec_f[i]) - 3.0/h[i-1] * (vec_f[i] - vec_f[i-1])\n",
    "    l[0] = 1.0\n",
    "    mu[0] = 0.0\n",
    "    z[0] = 0.0\n",
    "    for i in range(1, n):\n",
    "        l[i] = 2*(vec_x[i+1] - vec_x[i-1]) - h[i-1]*mu[i-1]\n",
    "        mu[i] = h[i] / l[i]\n",
    "        z[i] = (alpha[i] - h[i-1] * z[i-1]) / l[i]\n",
    "    l[n] = 1.0\n",
    "    z[n] = 0.0\n",
    "    c[n] = 0.0\n",
    "    for j in range(n-1, -1, -1):\n",
    "        c[j] = z[j] - mu[j] * c[j+1]\n",
    "        b[j] = (vec_f[j+1] - vec_f[j]) / h[j] - h[j]*(c[j+1] + 2*c[j]) / 3.0\n",
    "        d[j] = (c[j+1] - c[j]) / 3.0 / h[j]\n",
    "        \n",
    "    splines = []\n",
    "    for j in range(n):\n",
    "        splines.append(vec_f[j] + b[j]*(x-vec_x[j]) + c[j]*(x-vec_x[j])**2 + d[j]*(x-vec_x[j])**3)\n",
    "    return vec_f[:n], b[:n], c[:n], d[:n], splines"
   ]
  },
  {
   "cell_type": "code",
   "execution_count": 2,
   "id": "fa25658d",
   "metadata": {},
   "outputs": [
    {
     "name": "stdout",
     "output_type": "stream",
     "text": [
      "natural cubic spline between x0 = 0 and x1 = 1: 1.0*x\n",
      "natural cubic spline between x1 = 1 and x2 = 2: 1.0*x\n"
     ]
    }
   ],
   "source": [
    "# Problem 1\n",
    "\n",
    "vec_x = np.array([0, 1, 2])\n",
    "vec_f = np.array([0, 1, 2])\n",
    "a, b, c, d, splines = naturalspline(vec_x, vec_f)\n",
    "print(\"natural cubic spline between x0 = 0 and x1 = 1:\", splines[0])\n",
    "print(\"natural cubic spline between x1 = 1 and x2 = 2:\", splines[0])"
   ]
  },
  {
   "cell_type": "code",
   "execution_count": 3,
   "id": "04e91d1c",
   "metadata": {},
   "outputs": [
    {
     "name": "stdout",
     "output_type": "stream",
     "text": [
      "natural cubic spline between x0 = 8.3 and x1 = 8.6: 3.13410000000001*x - 8.44811000000009\n"
     ]
    }
   ],
   "source": [
    "# Problem 3\n",
    "# a)\n",
    "\n",
    "vec_x = np.array([8.3, 8.6])\n",
    "vec_f = np.array([17.56492, 18.50515])\n",
    "a, b, c, d, splines = naturalspline(vec_x, vec_f)\n",
    "print(\"natural cubic spline between x0 = 8.3 and x1 = 8.6:\", splines[0])"
   ]
  },
  {
   "cell_type": "code",
   "execution_count": 5,
   "id": "47a928a2",
   "metadata": {},
   "outputs": [
    {
     "name": "stdout",
     "output_type": "stream",
     "text": [
      "natural cubic spline between x0 = 0.1 and x1 = 0.2: 3.45508693333333*x - 8.99579333333334*(x - 0.1)**3 - 0.966008273333334\n",
      "natural cubic spline between x1 = 0.2 and x2 = 0.3: 3.18521313333333*x - 0.946303333333361*(x - 0.2)**3 - 2.698738*(x - 0.2)**2 - 0.921029306666667\n",
      "natural cubic spline between x2 = 0.3 and x3 = 0.4: 2.61707643333333*x + 9.9420966666667*(x - 0.3)**3 - 2.98262900000001*(x - 0.3)**2 - 0.77852198\n"
     ]
    }
   ],
   "source": [
    "# d)\n",
    "\n",
    "vec_x = np.array([0.1, 0.2, 0.3, 0.4])\n",
    "vec_f = np.array([-0.62049958, -0.28398668, 0.00660095, 0.24842440])\n",
    "a, b, c, d, splines = naturalspline(vec_x, vec_f)\n",
    "for i in range(3):\n",
    "    print(\"natural cubic spline between x\" + str(i) + \" = \" + str(vec_x[i]) + \" and x\" + str(i+1) + \n",
    "          \" = \" + str(vec_x[i+1]) + \":\", splines[i])"
   ]
  },
  {
   "cell_type": "code",
   "execution_count": 4,
   "id": "b82240ee",
   "metadata": {},
   "outputs": [
    {
     "name": "stdout",
     "output_type": "stream",
     "text": [
      "approximated f(8.4): 17.8783300000000\n",
      "absolute error: 0.00118367086614768\n",
      "\n",
      "approximated f'(8.4): 3.13410000000001\n",
      "absolute error: 0.00586829415074197\n"
     ]
    }
   ],
   "source": [
    "# Problem 5\n",
    "# a)\n",
    "\n",
    "vec_x = np.array([8.3, 8.6])\n",
    "vec_f = np.array([17.56492, 18.50515])\n",
    "a, b, c, d, splines = naturalspline(vec_x, vec_f)\n",
    "approxf = splines[0].subs(x, 8.4)\n",
    "approxfp = diff(splines[0], x).subs(x, 8.4)\n",
    "f = x * ln(x)\n",
    "print(\"approximated f(8.4):\", approxf)\n",
    "print(\"absolute error:\", abs(f.subs(x, 8.4) - approxf))\n",
    "print()\n",
    "print(\"approximated f'(8.4):\", approxfp)\n",
    "print(\"absolute error:\", abs(diff(f, x).subs(x, 8.4) - approxfp))"
   ]
  },
  {
   "cell_type": "code",
   "execution_count": 6,
   "id": "9121e550",
   "metadata": {},
   "outputs": [
    {
     "name": "stdout",
     "output_type": "stream",
     "text": [
      "approximated f(0.25): -0.131591156250000\n",
      "absolute error: 0.00118073832233886\n",
      "\n",
      "approximated f'(0.25): 2.90824205833333\n",
      "absolute error: 0.00118062643631989\n"
     ]
    }
   ],
   "source": [
    "# d)\n",
    "\n",
    "vec_x = np.array([0.1, 0.2, 0.3, 0.4])\n",
    "vec_f = np.array([-0.62049958, -0.28398668, 0.00660095, 0.24842440])\n",
    "a, b, c, d, splines = naturalspline(vec_x, vec_f)\n",
    "approxf = splines[1].subs(x, 0.25)\n",
    "approxfp = diff(splines[1], x).subs(x, 0.25)\n",
    "f = x * cos(x) - 2*x**2 + 3*x - 1\n",
    "print(\"approximated f(0.25):\", approxf)\n",
    "print(\"absolute error:\", abs(f.subs(x, 0.25) - approxf))\n",
    "print()\n",
    "print(\"approximated f'(0.25):\", approxfp)\n",
    "print(\"absolute error:\", abs(diff(f, x).subs(x, 0.25) - approxfp))"
   ]
  }
 ],
 "metadata": {
  "kernelspec": {
   "display_name": "Python 3 (ipykernel)",
   "language": "python",
   "name": "python3"
  },
  "language_info": {
   "codemirror_mode": {
    "name": "ipython",
    "version": 3
   },
   "file_extension": ".py",
   "mimetype": "text/x-python",
   "name": "python",
   "nbconvert_exporter": "python",
   "pygments_lexer": "ipython3",
   "version": "3.10.0"
  }
 },
 "nbformat": 4,
 "nbformat_minor": 5
}
