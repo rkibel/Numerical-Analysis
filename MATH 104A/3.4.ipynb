{
 "cells": [
  {
   "cell_type": "code",
   "execution_count": 1,
   "id": "6f0c8058",
   "metadata": {},
   "outputs": [],
   "source": [
    "# 3.4\n",
    "\n",
    "import math\n",
    "import numpy as np\n",
    "from sympy import *\n",
    "\n",
    "x = symbols('x')\n",
    "\n",
    "def hermite(vec_x, vec_f, vec_fp):\n",
    "    n = np.size(vec_x) - 1\n",
    "    Q_table = np.zeros((2*n + 2, 2*n + 2));\n",
    "    vec_z = np.zeros(2*n+2)\n",
    "    for i in range(n+1):\n",
    "        vec_z[2*i] = vec_x[i]\n",
    "        vec_z[2*i+1] = vec_x[i]\n",
    "        Q_table[2*i][0] = vec_f[i]\n",
    "        Q_table[2*i+1][0] = vec_f[i]\n",
    "        Q_table[2*i+1][1] = vec_fp[i]\n",
    "        if i != 0: Q_table[2*i][1] = (Q_table[2*i][0] - Q_table[2*i - 1][0])/(vec_z[2*i] - vec_z[2*i-1])\n",
    "    for i in range(2, 2*n+2):\n",
    "        for j in range(2, i+1):\n",
    "            Q_table[i][j] = (Q_table[i][j-1] - Q_table[i-1][j-1]) / (vec_z[i] - vec_z[i-j])\n",
    "            \n",
    "    polynomial = Q_table[0][0]\n",
    "    for k in range(1, 2*n+2):\n",
    "        mult = 1\n",
    "        for j in range(k):\n",
    "            mult *= (x-vec_z[j])\n",
    "        polynomial += (mult*Q_table[k][k])\n",
    "\n",
    "    return Q_table, polynomial"
   ]
  },
  {
   "cell_type": "code",
   "execution_count": 2,
   "id": "ddeb59ea",
   "metadata": {},
   "outputs": [
    {
     "name": "stdout",
     "output_type": "stream",
     "text": [
      "Hermite approximating polynomial using algorithm 3.3: 3.116256*x - 0.139310888903943*(0.120481927710843*x - 1)**2*(x - 8.6) + 4.0975772000023*(0.120481927710843*x - 1)**2 - 8.3000048\n"
     ]
    }
   ],
   "source": [
    "# Problem 1\n",
    "# a)\n",
    "\n",
    "vec_x = np.array([8.3, 8.6])\n",
    "vec_f = np.array([17.56492, 18.50515])\n",
    "vec_fp = np.array([3.116256, 3.151762])\n",
    "print(\"Hermite approximating polynomial using algorithm 3.3:\", hermite(vec_x, vec_f, vec_fp)[1])"
   ]
  },
  {
   "cell_type": "code",
   "execution_count": 3,
   "id": "1925cf7a",
   "metadata": {},
   "outputs": [
    {
     "name": "stdout",
     "output_type": "stream",
     "text": [
      "Hermite approximating polynomial using algorithm 3.3: 2.1316282072803e-14*x*(x + 0.25)**2*(x + 0.5)**2 + 0.751*x - 7.105427357601e-15*(x + 0.25)**2*(x + 0.5)**2 + 1.0*(x + 0.25)*(x + 0.5)**2 + 2.751*(x + 0.5)**2 + 0.35075\n"
     ]
    }
   ],
   "source": [
    "# c)\n",
    "\n",
    "vec_x = np.array([-0.5, -0.25, 0])\n",
    "vec_f = np.array([-0.0247500, 0.3349375, 1.1010000])\n",
    "vec_fp = np.array([0.7510000, 2.1890000, 4.0020000])\n",
    "print(\"Hermite approximating polynomial using algorithm 3.3:\", hermite(vec_x, vec_f, vec_fp)[1])"
   ]
  },
  {
   "cell_type": "code",
   "execution_count": 4,
   "id": "30eb68ef",
   "metadata": {},
   "outputs": [
    {
     "name": "stdout",
     "output_type": "stream",
     "text": [
      "absolute error: 1.88468940365283e-6\n"
     ]
    }
   ],
   "source": [
    "# Problem 3\n",
    "# a)\n",
    "\n",
    "vec_x = np.array([8.3, 8.6])\n",
    "vec_f = np.array([17.56492, 18.50515])\n",
    "vec_fp = np.array([3.116256, 3.151762])\n",
    "approx = hermite(vec_x, vec_f, vec_fp)[1].subs(x, 8.4)\n",
    "exact = 8.4*ln(8.4)\n",
    "print(\"absolute error:\", abs(approx-exact))"
   ]
  },
  {
   "cell_type": "code",
   "execution_count": 5,
   "id": "4d2ddc86",
   "metadata": {},
   "outputs": [
    {
     "name": "stdout",
     "output_type": "stream",
     "text": [
      "absolute error: 1.66533453693773e-16\n"
     ]
    }
   ],
   "source": [
    "# c)\n",
    "\n",
    "vec_x = np.array([-0.5, -0.25, 0])\n",
    "vec_f = np.array([-0.0247500, 0.3349375, 1.1010000])\n",
    "vec_fp = np.array([0.7510000, 2.1890000, 4.0020000])\n",
    "approx = hermite(vec_x, vec_f, vec_fp)[1].subs(x, -1.0/3)\n",
    "exact = (-1.0/3)**3 + 4.001*(-1.0/3)**2 + 4.002*(-1.0/3) + 1.101\n",
    "print(\"absolute error:\", abs(approx-exact))"
   ]
  }
 ],
 "metadata": {
  "kernelspec": {
   "display_name": "Python 3 (ipykernel)",
   "language": "python",
   "name": "python3"
  },
  "language_info": {
   "codemirror_mode": {
    "name": "ipython",
    "version": 3
   },
   "file_extension": ".py",
   "mimetype": "text/x-python",
   "name": "python",
   "nbconvert_exporter": "python",
   "pygments_lexer": "ipython3",
   "version": "3.10.0"
  }
 },
 "nbformat": 4,
 "nbformat_minor": 5
}
