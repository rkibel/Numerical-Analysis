{
 "cells": [
  {
   "cell_type": "code",
   "execution_count": 1,
   "id": "11169bd9",
   "metadata": {},
   "outputs": [],
   "source": [
    "# 3.3\n",
    "\n",
    "import math\n",
    "import numpy as np\n",
    "from sympy import *\n",
    "\n",
    "x = symbols('x')\n",
    "def divdiff(vec_x, vec_f):\n",
    "    n = np.size(vec_x) - 1\n",
    "    F_table = np.zeros((n + 1, n + 1))\n",
    "    for i in range(n+1):\n",
    "        F_table[i][0] = vec_f[i];\n",
    "    for i in range(1, n+1):\n",
    "        for j in range(1, i+1):\n",
    "            F_table[i][j] = (F_table[i][j-1] - F_table[i-1][j-1]) / (vec_x[i] - vec_x[i-j])\n",
    "    \n",
    "    polynomial = 0\n",
    "    for i in range(n+1):\n",
    "        temp = F_table[i][i]\n",
    "        for j in range(i):\n",
    "            diff = x-vec_x[j]\n",
    "            temp *= diff\n",
    "        polynomial += temp\n",
    "    return F_table, polynomial\n",
    "\n",
    "def forwarddiff(vec_x, vec_f):\n",
    "    F_table, _ = divdiff(vec_x, vec_f)\n",
    "    n = np.size(vec_x) - 1\n",
    "    h = vec_x[1] - vec_x[0]\n",
    "    s = (x - vec_x[0]) / h\n",
    "    res = vec_f[0]\n",
    "    for k in range(1, n+1):\n",
    "        mult = 1\n",
    "        for i in range(k):\n",
    "            mult *= (s-i)\n",
    "        res += (mult * F_table[k][k] * h**k)\n",
    "    return res\n",
    "\n",
    "def backwarddiff(vec_x, vec_f):\n",
    "    F_table, _ = divdiff(vec_x, vec_f)\n",
    "    n = np.size(vec_x) - 1\n",
    "    h = vec_x[1] - vec_x[0]\n",
    "    s = (x - vec_x[n]) / h\n",
    "    res = vec_f[n]\n",
    "    for k in range(1, n+1):\n",
    "        mult = 1\n",
    "        for i in range(k):\n",
    "            mult *= (s+i)\n",
    "        res += (mult * F_table[n][k] * h**k)\n",
    "    return res"
   ]
  },
  {
   "cell_type": "code",
   "execution_count": 2,
   "id": "45dd5fcb",
   "metadata": {},
   "outputs": [
    {
     "name": "stdout",
     "output_type": "stream",
     "text": [
      "degree 1 polynomial approximation of f(8.4): 17.8783300000000\n",
      "degree 2 polynomial approximation of f(8.4): 17.8771300000000\n",
      "degree 3 polynomial approximation of f(8.4): 17.8771425000000\n"
     ]
    }
   ],
   "source": [
    "# Problem 1\n",
    "# a)\n",
    "\n",
    "# degree 1 polynomial\n",
    "vec_x = np.array([8.3, 8.6])\n",
    "vec_f = np.array([17.56492, 18.50515])\n",
    "print(\"degree 1 polynomial approximation of f(8.4):\", divdiff(vec_x, vec_f)[1].subs(x, 8.4))\n",
    "\n",
    "# degree 2 polynomial\n",
    "vec_x = np.array([8.1, 8.3, 8.6])\n",
    "vec_f = np.array([16.94410, 17.56492, 18.50515])\n",
    "print(\"degree 2 polynomial approximation of f(8.4):\", divdiff(vec_x, vec_f)[1].subs(x, 8.4))\n",
    "\n",
    "# degree 3 polynomial\n",
    "vec_x = np.array([8.1, 8.3, 8.6, 8.7])\n",
    "vec_f = np.array([16.94410, 17.56492, 18.50515, 18.82091])\n",
    "print(\"degree 3 polynomial approximation of f(8.4):\", divdiff(vec_x, vec_f)[1].subs(x, 8.4))"
   ]
  },
  {
   "cell_type": "code",
   "execution_count": 3,
   "id": "697c5e42",
   "metadata": {},
   "outputs": [
    {
     "name": "stdout",
     "output_type": "stream",
     "text": [
      "degree 1 polynomial approximation of f(0.9): 0.440862795000000\n",
      "degree 2 polynomial approximation of f(0.9): 0.438413520000000\n",
      "degree 3 polynomial approximation of f(0.9): 0.441985002500000\n"
     ]
    }
   ],
   "source": [
    "# b)\n",
    "\n",
    "# degree 1 polynomial\n",
    "vec_x = np.array([0.8, 1.0])\n",
    "vec_f = np.array([0.22363362, 0.65809197])\n",
    "print(\"degree 1 polynomial approximation of f(0.9):\", divdiff(vec_x, vec_f)[1].subs(x, 0.9))\n",
    "\n",
    "# degree 2 polynomial\n",
    "vec_x = np.array([0.7, 0.8, 1.0])\n",
    "vec_f = np.array([0.01375227, 0.22363362, 0.65809197])\n",
    "print(\"degree 2 polynomial approximation of f(0.9):\", divdiff(vec_x, vec_f)[1].subs(x, 0.9))\n",
    "\n",
    "# degree 3 polynomial\n",
    "vec_x = np.array([0.6, 0.7, 0.8, 1.0])\n",
    "vec_f = np.array([-0.17694460, 0.01375227, 0.22363362, 0.65809197])\n",
    "print(\"degree 3 polynomial approximation of f(0.9):\", divdiff(vec_x, vec_f)[1].subs(x, 0.9))"
   ]
  },
  {
   "cell_type": "code",
   "execution_count": 4,
   "id": "8f594a38",
   "metadata": {},
   "outputs": [
    {
     "name": "stdout",
     "output_type": "stream",
     "text": [
      "degree 1 forward difference polynomial: 3.06425*x + 1.101\n",
      "approximation of f(-1/3): 0.0795833333333333\n",
      "\n",
      "degree 2 forward difference polynomial: 1.43875*x + 0.2031875*(4.0*x + 1.0)*(4.0*x + 2.0) + 0.694625\n",
      "approximation of f(-1/3): 0.169888888888889\n",
      "\n",
      "degree 3 forward difference polynomial: 0.18825*x + 0.015625*(4.0*x + 1.0)*(4.0*x + 2.0)*(4.0*x + 3.0) + 0.1563125*(4.0*x + 2.0)*(4.0*x + 3.0) + 0.069375\n",
      "approximation of f(-1/3): 0.174518518518519\n"
     ]
    }
   ],
   "source": [
    "# Problem 3\n",
    "# a)\n",
    "\n",
    "# degree 1 polynomial\n",
    "vec_x = np.array([-0.25, 0])\n",
    "vec_f = np.array([0.33493750, 1.10100000])\n",
    "print(\"degree 1 forward difference polynomial:\", forwarddiff(vec_x, vec_f))\n",
    "print(\"approximation of f(-1/3):\", forwarddiff(vec_x, vec_f).subs(x, -1.0/3))\n",
    "print()\n",
    "\n",
    "# degree 2 polynomial\n",
    "vec_x = np.array([-0.5, -0.25, 0])\n",
    "vec_f = np.array([-0.02475000, 0.33493750, 1.10100000])\n",
    "print(\"degree 2 forward difference polynomial:\", forwarddiff(vec_x, vec_f))\n",
    "print(\"approximation of f(-1/3):\", forwarddiff(vec_x, vec_f).subs(x, -1.0/3))\n",
    "print()\n",
    "\n",
    "# degree 3 polynomial\n",
    "vec_x = np.array([-0.75, -0.5, -0.25, 0])\n",
    "vec_f = np.array([-0.07181250, -0.02475000, 0.33493750, 1.10100000])\n",
    "print(\"degree 3 forward difference polynomial:\", forwarddiff(vec_x, vec_f))\n",
    "print(\"approximation of f(-1/3):\", forwarddiff(vec_x, vec_f).subs(x, -1.0/3))"
   ]
  },
  {
   "cell_type": "code",
   "execution_count": 5,
   "id": "9340d1f4",
   "metadata": {
    "scrolled": true
   },
   "outputs": [
    {
     "name": "stdout",
     "output_type": "stream",
     "text": [
      "degree 1 forward difference polynomial: 2.9058763*x - 0.86516194\n",
      "approximation of f(0.25): -0.138692865000000\n",
      "\n",
      "degree 2 forward difference polynomial: 2.9058763*x - 0.0243820900000001*(10.0*x - 3.0)*(10.0*x - 2.0) - 0.86516194\n",
      "approximation of f(0.25): -0.132597342500000\n",
      "\n",
      "degree 3 forward difference polynomial: 3.365129*x - 0.00047315166666669*(10.0*x - 3.0)*(10.0*x - 2.0)*(10.0*x - 1.0) - 0.022962635*(10.0*x - 2.0)*(10.0*x - 1.0) - 0.95701248\n",
      "approximation of f(0.25): -0.132774774375000\n"
     ]
    }
   ],
   "source": [
    "# b)\n",
    "\n",
    "# degree 1 polynomial\n",
    "vec_x = np.array([0.2, 0.3])\n",
    "vec_f = np.array([-0.28398668, 0.00660095])\n",
    "print(\"degree 1 forward difference polynomial:\", forwarddiff(vec_x, vec_f))\n",
    "print(\"approximation of f(0.25):\", forwarddiff(vec_x, vec_f).subs(x, 0.25))\n",
    "print()\n",
    "\n",
    "# degree 2 polynomial\n",
    "vec_x = np.array([0.2, 0.3, 0.4])\n",
    "vec_f = np.array([-0.28398668, 0.00660095, 0.24842440])\n",
    "print(\"degree 2 forward difference polynomial:\", forwarddiff(vec_x, vec_f))\n",
    "print(\"approximation of f(0.25):\", forwarddiff(vec_x, vec_f).subs(x, 0.25))\n",
    "print()\n",
    "\n",
    "# degree 3 polynomial\n",
    "vec_x = np.array([0.1, 0.2, 0.3, 0.4])\n",
    "vec_f = np.array([-0.62049958, -0.28398668, 0.00660095, 0.24842440])\n",
    "print(\"degree 3 forward difference polynomial:\", forwarddiff(vec_x, vec_f))\n",
    "print(\"approximation of f(0.25):\", forwarddiff(vec_x, vec_f).subs(x, 0.25))"
   ]
  },
  {
   "cell_type": "code",
   "execution_count": 6,
   "id": "a3c8d22e",
   "metadata": {
    "scrolled": true
   },
   "outputs": [
    {
     "name": "stdout",
     "output_type": "stream",
     "text": [
      "degree 1 forward difference polynomial: 7.05364*x - 0.808540000000001\n",
      "approximation of f(0.43): 2.22452520000000\n",
      "\n",
      "degree 2 forward difference polynomial: 4.27824*x + 0.346925*(4.0*x - 2.0)*(4.0*x - 1.0) + 0.57916\n",
      "approximation of f(0.43): 2.34886312000000\n",
      "\n",
      "degree 3 forward difference polynomial: 0.182006666666667*x*(4.0*x - 2)*(4.0*x - 1) + 0.84168*x*(4.0*x - 1) + 2.59488*x + 1.0\n",
      "approximation of f(0.43): 2.36060473408000\n"
     ]
    }
   ],
   "source": [
    "# Problem 4\n",
    "# a)\n",
    "\n",
    "# degree 1 polynomial\n",
    "vec_x = np.array([0.5, 0.75])\n",
    "vec_f = np.array([2.71828, 4.48169])\n",
    "print(\"degree 1 forward difference polynomial:\", forwarddiff(vec_x, vec_f))\n",
    "print(\"approximation of f(0.43):\", forwarddiff(vec_x, vec_f).subs(x, 0.43))\n",
    "print()\n",
    "\n",
    "# degree 2 polynomial\n",
    "vec_x = np.array([0.25, 0.5, 0.75])\n",
    "vec_f = np.array([1.64872, 2.71828, 4.48169])\n",
    "print(\"degree 2 forward difference polynomial:\", forwarddiff(vec_x, vec_f))\n",
    "print(\"approximation of f(0.43):\", forwarddiff(vec_x, vec_f).subs(x, 0.43))\n",
    "print()\n",
    "\n",
    "# degree 3 polynomial\n",
    "vec_x = np.array([0, 0.25, 0.5, 0.75])\n",
    "vec_f = np.array([1, 1.64872, 2.71828, 4.48169])\n",
    "print(\"degree 3 forward difference polynomial:\", forwarddiff(vec_x, vec_f))\n",
    "print(\"approximation of f(0.43):\", forwarddiff(vec_x, vec_f).subs(x, 0.43))"
   ]
  },
  {
   "cell_type": "code",
   "execution_count": 7,
   "id": "5e41f585",
   "metadata": {},
   "outputs": [
    {
     "name": "stdout",
     "output_type": "stream",
     "text": [
      "degree 1 forward difference polynomial: -2.5322238*x - 0.05435258\n",
      "approximation of f(0.18): -0.510152864000000\n",
      "\n",
      "degree 2 forward difference polynomial: -2.5322238*x + 0.00730595*(10.0*x - 3.0)*(10.0*x - 2.0) - 0.05435258\n",
      "approximation of f(0.18): -0.508399436000000\n",
      "\n",
      "degree 2 forward difference polynomial: -2.7074748*x - 0.000485533333333336*(10.0*x - 3.0)*(10.0*x - 2.0)*(10.0*x - 1.0) + 0.00876255000000002*(10.0*x - 2.0)*(10.0*x - 1.0) - 0.01930238\n",
      "approximation of f(0.18): -0.508143074400000\n"
     ]
    }
   ],
   "source": [
    "# b)\n",
    "\n",
    "# degree 1 polynomial\n",
    "vec_x = np.array([0.2, 0.3])\n",
    "vec_f = np.array([-0.56079734, -0.81401972])\n",
    "print(\"degree 1 forward difference polynomial:\", forwarddiff(vec_x, vec_f))\n",
    "print(\"approximation of f(0.18):\", forwarddiff(vec_x, vec_f).subs(x, 0.18))\n",
    "print()\n",
    "\n",
    "# degree 2 polynomial\n",
    "vec_x = np.array([0.2, 0.3, 0.4])\n",
    "vec_f = np.array([-0.56079734, -0.81401972, -1.0526302])\n",
    "print(\"degree 2 forward difference polynomial:\", forwarddiff(vec_x, vec_f))\n",
    "print(\"approximation of f(0.18):\", forwarddiff(vec_x, vec_f).subs(x, 0.18))\n",
    "print()\n",
    "\n",
    "# degree 3 polynomial\n",
    "vec_x = np.array([0.1, 0.2, 0.3, 0.4])\n",
    "vec_f = np.array([-0.29004986, -0.56079734, -0.81401972, -1.0526302])\n",
    "print(\"degree 2 forward difference polynomial:\", forwarddiff(vec_x, vec_f))\n",
    "print(\"approximation of f(0.18):\", forwarddiff(vec_x, vec_f).subs(x, 0.18))"
   ]
  },
  {
   "cell_type": "code",
   "execution_count": 8,
   "id": "15eb891d",
   "metadata": {},
   "outputs": [
    {
     "name": "stdout",
     "output_type": "stream",
     "text": [
      "degree 3 polynomial construction: P_3(x)= x*(-556.666666666667*x - 55.6666666666667)*(x - 0.2) + x*(129.833333333333*x + 12.9833333333333) - 33.0*x + 2.0\n"
     ]
    }
   ],
   "source": [
    "# Problem 7\n",
    "# a)\n",
    "\n",
    "# degree 3 polynomial\n",
    "vec_x = np.array([-0.1, 0.0, 0.2, 0.3])\n",
    "vec_f = np.array([5.3, 2.0, 3.19, 1.0])\n",
    "print(\"degree 3 polynomial construction: P_3(x)=\", divdiff(vec_x, vec_f)[1])"
   ]
  },
  {
   "cell_type": "code",
   "execution_count": 9,
   "id": "477715df",
   "metadata": {},
   "outputs": [
    {
     "name": "stdout",
     "output_type": "stream",
     "text": [
      "degree 4 polynomial construction: P_4(x)= x*(-556.666666666667*x - 55.6666666666667)*(x - 0.2) + x*(x - 0.3)*(x - 0.2)*(2730.24338624339*x + 273.024338624339) + x*(129.833333333333*x + 12.9833333333333) - 33.0*x + 2.0\n"
     ]
    }
   ],
   "source": [
    "# b)\n",
    "\n",
    "# degree 4 polynomial\n",
    "vec_x = np.array([-0.1, 0.0, 0.2, 0.3, 0.35])\n",
    "vec_f = np.array([5.3, 2.0, 3.19, 1.0, 0.97260])\n",
    "print(\"degree 4 polynomial construction: P_4(x)=\", divdiff(vec_x, vec_f)[1])"
   ]
  },
  {
   "cell_type": "code",
   "execution_count": 10,
   "id": "9d022818",
   "metadata": {},
   "outputs": [
    {
     "name": "stdout",
     "output_type": "stream",
     "text": [
      "approximation of f(-0.05) using forward-difference formula: f(-0.05)= -2.65417787133488\n"
     ]
    }
   ],
   "source": [
    "# Problem 10\n",
    "# a)\n",
    "\n",
    "vec_x = np.array([-1.2, -0.9, -0.6, -0.3, 0.0])\n",
    "vec_f = np.array([0.18232, -0.105083, -0.51036, -1.20397, -3.12145])\n",
    "print(\"approximation of f(-0.05) using forward-difference formula: f(-0.05)=\", forwarddiff(vec_x, vec_f).subs(x, -0.05))"
   ]
  },
  {
   "cell_type": "code",
   "execution_count": 11,
   "id": "176e8603",
   "metadata": {},
   "outputs": [
    {
     "name": "stdout",
     "output_type": "stream",
     "text": [
      "approximation of f(-0.2) using backward-difference formula: f(-0.2)= -1.63890580246914\n"
     ]
    }
   ],
   "source": [
    "# b)\n",
    "\n",
    "vec_x = np.array([-1.2, -0.9, -0.6, -0.3, 0.0])\n",
    "vec_f = np.array([0.18232, -0.105083, -0.51036, -1.20397, -3.12145])\n",
    "print(\"approximation of f(-0.2) using backward-difference formula: f(-0.2)=\", backwarddiff(vec_x, vec_f).subs(x, -0.2))"
   ]
  },
  {
   "cell_type": "code",
   "execution_count": 12,
   "id": "ab662d2f",
   "metadata": {},
   "outputs": [
    {
     "name": "stdout",
     "output_type": "stream",
     "text": [
      "[[ 0.18232     0.          0.          0.          0.        ]\n",
      " [-0.105083   -0.95801     0.          0.          0.        ]\n",
      " [-0.51036    -1.35092333 -0.65485556  0.          0.        ]\n",
      " [-1.20397    -2.31203333 -1.60185    -1.05221605  0.        ]\n",
      " [-3.12145    -6.3916     -6.79927778 -5.77491975 -3.93558642]]\n"
     ]
    }
   ],
   "source": [
    "# c)\n",
    "\n",
    "# to help with manual calculation\n",
    "print(divdiff(vec_x, vec_f)[0])"
   ]
  },
  {
   "cell_type": "code",
   "execution_count": 13,
   "id": "0a54c7a9",
   "metadata": {},
   "outputs": [
    {
     "name": "stdout",
     "output_type": "stream",
     "text": [
      "predicted time at the three quarter mile pole (in seconds): 72.9666666666667\n",
      "absolute error: 0.0333333333333172\n",
      "relative error: 0.000456621004565989\n"
     ]
    }
   ],
   "source": [
    "# Problem 18\n",
    "# a)\n",
    "\n",
    "\"\"\"\n",
    "The output for the code below is very close to the actual time at the three quarter mile pole (1 min 13 seconds, or 73 seconds).\n",
    "It has a very small relative error, which means that our divided difference polynomial approximation was relatively accurate.\n",
    "\"\"\"\n",
    "vec_x = np.array([0.25, 0.5, 1.0, 1.25])\n",
    "vec_f = np.array([25.2, 49.2, 96.4, 119.4])\n",
    "polynomial = divdiff(vec_x, vec_f)[1]\n",
    "time = polynomial.subs(x, 0.75)\n",
    "print(\"predicted time at the three quarter mile pole (in seconds):\", time)\n",
    "print(\"absolute error:\", abs(time-73))\n",
    "print(\"relative error:\", abs(time-73)/73)"
   ]
  },
  {
   "cell_type": "code",
   "execution_count": 14,
   "id": "c6c5b796",
   "metadata": {},
   "outputs": [
    {
     "name": "stdout",
     "output_type": "stream",
     "text": [
      "interpolated speed of Secretariat at the end of the race (in seconds per mile): 91.0000000000000\n",
      "interpolated speed of Secretariat at the end of the race (in miles per hour): 39.5604395604396\n"
     ]
    }
   ],
   "source": [
    "# b)\n",
    "\n",
    "speed = diff(polynomial, x).subs(x, 1.25)\n",
    "print(\"interpolated speed of Secretariat at the end of the race (in seconds per mile):\", speed)\n",
    "print(\"interpolated speed of Secretariat at the end of the race (in miles per hour):\", 1/speed * 3600)"
   ]
  }
 ],
 "metadata": {
  "kernelspec": {
   "display_name": "Python 3 (ipykernel)",
   "language": "python",
   "name": "python3"
  },
  "language_info": {
   "codemirror_mode": {
    "name": "ipython",
    "version": 3
   },
   "file_extension": ".py",
   "mimetype": "text/x-python",
   "name": "python",
   "nbconvert_exporter": "python",
   "pygments_lexer": "ipython3",
   "version": "3.10.0"
  }
 },
 "nbformat": 4,
 "nbformat_minor": 5
}
