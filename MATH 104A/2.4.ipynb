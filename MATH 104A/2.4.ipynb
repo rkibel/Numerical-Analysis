{
 "cells": [
  {
   "cell_type": "code",
   "execution_count": 5,
   "id": "f77aa4c2",
   "metadata": {},
   "outputs": [],
   "source": [
    "import math\n",
    "import numpy as np\n",
    "from sympy import *\n",
    "\n",
    "def newtonsMethod(f, p0, tol, N):\n",
    "    global x\n",
    "    df = diff(f, x)\n",
    "    for i in range(N):\n",
    "        p = p0 - f.subs(x, p0) / df.subs(x, p0)\n",
    "        print(\"p\" + str(i+1) + \": \" + str(float(p)))\n",
    "        if abs(p - p0) < tol: \n",
    "            return\n",
    "        p0 = p\n",
    "        \n",
    "def modifiedNewtonsMethod(f, p0, tol, N):\n",
    "    global x\n",
    "    df = diff(f, x)\n",
    "    ddf = diff(df, x)\n",
    "    for i in range(N):\n",
    "        p = p0 - (f.subs(x, p0) * df.subs(x, p0)) / (df.subs(x, p0)**2 - f.subs(x, p0)*ddf.subs(x, p0))\n",
    "        print(\"p\" + str(i+1) + \": \" + str(float(p)))\n",
    "        if abs(p - p0) < tol: \n",
    "            return\n",
    "        p0 = p"
   ]
  },
  {
   "cell_type": "code",
   "execution_count": 2,
   "id": "d77c87e5",
   "metadata": {},
   "outputs": [],
   "source": [
    "# 2.4"
   ]
  },
  {
   "cell_type": "code",
   "execution_count": 7,
   "id": "fa9f8ddb",
   "metadata": {},
   "outputs": [
    {
     "name": "stdout",
     "output_type": "stream",
     "text": [
      "p1: 0.5331555015986091\n",
      "p2: 0.5500438056228882\n",
      "p3: 0.5585669565504399\n",
      "p4: 0.5628484514220404\n",
      "p5: 0.5649941998805683\n",
      "p6: 0.5660683270089558\n",
      "p7: 0.5666057041281513\n",
      "p8: 0.5668744711177784\n",
      "p9: 0.5670088742252559\n",
      "p10: 0.5670760806828047\n",
      "p11: 0.5671096851376998\n",
      "p12: 0.5671264876719193\n",
      "p13: 0.5671348890151928\n",
      "p14: 0.5671390897072824\n",
      "p15: 0.5671411900582042\n",
      "p16: 0.5671422402239364\n",
      "p17: 0.5671427653235959\n",
      "p18: 0.5671430278822491\n",
      "p19: 0.5671431592231857\n",
      "p20: 0.5671432246953827\n"
     ]
    }
   ],
   "source": [
    "# Problem 1\n",
    "# a)\n",
    "x = symbols('x')\n",
    "f = x**2 - 2*x*exp(-x) + exp(-2*x)\n",
    "newtonsMethod(f, 0.5, 1e-7, 30)"
   ]
  },
  {
   "cell_type": "code",
   "execution_count": 19,
   "id": "917d1009",
   "metadata": {},
   "outputs": [
    {
     "name": "stdout",
     "output_type": "stream",
     "text": [
      "p1: -0.18325201832789226\n",
      "p2: -0.18325321323273452\n",
      "p3: -0.18325376083663278\n"
     ]
    }
   ],
   "source": [
    "# b)\n",
    "f = exp(6*x) + (3*(ln(2)**2))*exp(2*x)-ln(8)*exp(4*x)-(ln(2)**3)\n",
    "\"\"\"\n",
    "Calculating the zero with Newton's (and modified Newton's) method here is very slow because f(pn) and f'(pn) are both very \n",
    "close to 0 and almost identical. Alternatively it is possible to use modified Newton's method and converge much faster, but the\n",
    "problem wants us to use Newton's method. I will derive my answer from modifiedNewtonsMethod, since it converges much faster, \n",
    "but note that this is the implementation to approximate p with normal Newton's method (and choosing a p0 that is not as close \n",
    "to the true zero).\n",
    "\"\"\"\n",
    "newtonsMethod(f, -0.18325, 1e-6, 10)"
   ]
  },
  {
   "cell_type": "code",
   "execution_count": 20,
   "id": "89cc549b",
   "metadata": {
    "scrolled": true
   },
   "outputs": [
    {
     "name": "stdout",
     "output_type": "stream",
     "text": [
      "p1: -0.1835337031117084\n",
      "p2: -0.1832565358803945\n",
      "p3: -0.1832565734791065\n"
     ]
    }
   ],
   "source": [
    "modifiedNewtonsMethod(f, -0.2, 1e-6, 10)"
   ]
  },
  {
   "cell_type": "code",
   "execution_count": 13,
   "id": "bb95bc75",
   "metadata": {},
   "outputs": [
    {
     "name": "stdout",
     "output_type": "stream",
     "text": [
      "p1: -0.3524183907941086\n",
      "p2: -0.28498026416326483\n",
      "p3: -0.24681352821302044\n",
      "p4: -0.22323285347614377\n",
      "p5: -0.2075094583530704\n",
      "p6: -0.19540082353532548\n",
      "p7: -0.1810351782182004\n",
      "p8: -0.15259309181142802\n",
      "p9: -0.16201454173456742\n",
      "p10: -0.16736111400528167\n",
      "p11: -0.16934113357337374\n",
      "p12: -0.16960232053198912\n",
      "p13: -0.16960654689898308\n",
      "p14: -0.16960654799127572\n"
     ]
    }
   ],
   "source": [
    "# Problem 5\n",
    "f = exp(6*x) + 1.441*exp(2*x)-2.079*exp(4*x)-0.3330\n",
    "newtonsMethod(f, -0.5, 1e-6, 20)"
   ]
  },
  {
   "cell_type": "code",
   "execution_count": 14,
   "id": "f7968602",
   "metadata": {},
   "outputs": [
    {
     "name": "stdout",
     "output_type": "stream",
     "text": [
      "p1: -0.26489684994475243\n",
      "p2: -0.1855787539963023\n",
      "p3: -0.20275906145899622\n",
      "p4: -0.4421826948576412\n",
      "p5: -0.23942893554058733\n",
      "p6: -0.1787357856984172\n",
      "p7: -0.17365776819267764\n",
      "p8: -0.17062242171798397\n",
      "p9: -0.16967055911261097\n",
      "p10: -0.16960679874406265\n",
      "p11: -0.1696065479950366\n"
     ]
    }
   ],
   "source": [
    "modifiedNewtonsMethod(f, -0.5, 1e-6, 20)"
   ]
  },
  {
   "cell_type": "code",
   "execution_count": 17,
   "id": "a66048ea",
   "metadata": {},
   "outputs": [
    {
     "name": "stdout",
     "output_type": "stream",
     "text": [
      "p1: 3.732059983950191\n",
      "p2: 3.733078025473566\n",
      "p3: 3.7330775225949773\n"
     ]
    }
   ],
   "source": [
    "# Problem 2d since it is necessary for analysis\n",
    "f = exp(3*x) - 27*x**6 + 27*x**4*exp(x) - 9*x**2*exp(2*x)\n",
    "modifiedNewtonsMethod(f, 3.7, 1e-6, 20)"
   ]
  },
  {
   "cell_type": "code",
   "execution_count": null,
   "id": "b8a6db21",
   "metadata": {},
   "outputs": [],
   "source": []
  }
 ],
 "metadata": {
  "kernelspec": {
   "display_name": "Python 3 (ipykernel)",
   "language": "python",
   "name": "python3"
  },
  "language_info": {
   "codemirror_mode": {
    "name": "ipython",
    "version": 3
   },
   "file_extension": ".py",
   "mimetype": "text/x-python",
   "name": "python",
   "nbconvert_exporter": "python",
   "pygments_lexer": "ipython3",
   "version": "3.10.0"
  }
 },
 "nbformat": 4,
 "nbformat_minor": 5
}
