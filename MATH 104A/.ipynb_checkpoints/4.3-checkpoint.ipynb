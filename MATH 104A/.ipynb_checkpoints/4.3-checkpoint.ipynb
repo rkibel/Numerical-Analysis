{
 "cells": [
  {
   "cell_type": "code",
   "execution_count": 1,
   "id": "1c98c341",
   "metadata": {},
   "outputs": [],
   "source": [
    "# 4.3\n",
    "\n",
    "import math\n",
    "import numpy as np\n",
    "from sympy import *\n",
    "from sympy.plotting import plot\n",
    "from sympy.plotting.plot import MatplotlibBackend, Plot\n",
    "import matplotlib\n",
    "# %matplotlib inline \n",
    "# %matplotlib ipympl\n",
    "%matplotlib tk \n",
    "\n",
    "import matplotlib.pyplot as plt\n",
    "\n",
    "x = symbols('x')\n",
    "\n",
    "def closedNC(a, b, f, n):\n",
    "    h = (b-a) / n\n",
    "    ivl = Interval(a,b)\n",
    "    match n:\n",
    "        case 1:\n",
    "            return (h/2 * (f.subs(x, a) + f.subs(x, b)), h**3 / 12.0 * absMax(diff(f, x, 2), ivl))\n",
    "        case 2:\n",
    "            return (h/3 * (f.subs(x, a) + 4*f.subs(x, a+h) + f.subs(x, b)), h**5 / 90.0 * absMax(diff(f, x, 4), ivl))\n",
    "        case 3:\n",
    "            return (3*h/8 * (f.subs(x, a) + 3*f.subs(x, a+h) + 3*f.subs(x, a+2*h) + f.subs(x, b)), 3*h**5 / 80.0 * absMax(diff(f, x, 4), ivl))\n",
    "        case 4:\n",
    "            return (2*h/45 * (7*f.subs(x, a) + 32*f.subs(x, a+h) + 12*f.subs(x, a+2*h) + 32*f.subs(x, a+3*h) + 7*f.subs(x, b)), 8.0*h**7 / 945.0 * absMax(diff(f, x, 6), ivl))\n",
    "        case _:\n",
    "            pass\n",
    "        \n",
    "def openNC(a, b, f, n):\n",
    "    h = (b-a)/(n+2)\n",
    "    ivl = Interval(a,b)\n",
    "    match n:\n",
    "        case 0:\n",
    "            return (2*h*f.subs(x, a+h), h**3/3.0*absMax(diff(f, x, 2), ivl))\n",
    "        case 1:\n",
    "            return (3*h/2*(f.subs(x, a+h) + f.subs(x, a+2*h)), 3.0*h**3/4.0 *absMax(diff(f, x, 2), ivl))\n",
    "        case 2:\n",
    "            return (4*h/3*(2*f.subs(x, a+h) - f.subs(x, a+2*h) + 2*f.subs(x, a+3*h)), 14.0*h**5/45.0*absMax(diff(f, x, 4), ivl))\n",
    "        case 3:\n",
    "            return (5*h/24*(11*f.subs(x, a+h) + f.subs(x, a+2*h) + f.subs(x, a+3*h) + 11*f.subs(x, a+4*h)), 95.0*h**5/144.0*absMax(diff(f, x, 4), ivl))\n",
    "        case _:\n",
    "            pass\n",
    "        \n",
    "def absMax(f, ivl):\n",
    "    return max(abs(maximum(f, x, ivl)), abs(minimum(f, x, ivl)))"
   ]
  },
  {
   "cell_type": "code",
   "execution_count": 2,
   "id": "79f5dfd0",
   "metadata": {},
   "outputs": [],
   "source": [
    "# Problem 15\n",
    "\n",
    "def Problem15(f, a, b):\n",
    "    soln = integrate(f, (x, a, b))\n",
    "    print(\"Closed Newton-Cotes approximations\")\n",
    "    for i in range(1, 5):\n",
    "        sol = closedNC(a, b, f, i)\n",
    "        print(\"n = \" + str(i) + \" approximation:\", sol[0])\n",
    "        print(\"Error:\", abs(soln-sol[0]))\n",
    "        print(\"Error bound:\", sol[1])\n",
    "    print()\n",
    "    print(\"Open Newton-Cotes approximations\")\n",
    "    for i in range(4):\n",
    "        sol = openNC(a, b, f, i)\n",
    "        print(\"n = \" + str(i) + \" approximation:\", sol[0])\n",
    "        print(\"Error:\", abs(soln-sol[0]))\n",
    "        print(\"Error bound:\", sol[1])\n",
    "    "
   ]
  },
  {
   "cell_type": "code",
   "execution_count": 3,
   "id": "349043c7",
   "metadata": {},
   "outputs": [
    {
     "name": "stdout",
     "output_type": "stream",
     "text": [
      "Closed Newton-Cotes approximations\n",
      "n = 1 approximation: 0.102440442408508\n",
      "Error: 1.93795829370735e-5\n",
      "Error bound: 2.08333333333333e-5\n",
      "n = 2 approximation: 0.102459819242567\n",
      "Error: 2.74887813900282e-9\n",
      "Error bound: 3.25520833333333e-9\n",
      "n = 3 approximation: 0.102459820769143\n",
      "Error: 1.22230131571754e-9\n",
      "Error bound: 1.44675925925926e-9\n",
      "n = 4 approximation: 0.102459821990859\n",
      "Error: 5.85254067431151e-13\n",
      "Error bound: 7.62939453125000e-13\n",
      "\n",
      "Open Newton-Cotes approximations\n",
      "n = 0 approximation: 0.102469507659596\n",
      "Error: 9.68566815134908e-6\n",
      "Error bound: 1.04166666666667e-5\n",
      "n = 1 approximation: 0.102466280222689\n",
      "Error: 6.45823124392764e-6\n",
      "Error bound: 6.94444444444444e-6\n",
      "n = 2 approximation: 0.102459824395616\n",
      "Error: 2.40417101504686e-9\n",
      "Error bound: 2.84830729166667e-9\n",
      "n = 3 approximation: 0.102459823662376\n",
      "Error: 1.67093090752690e-9\n",
      "Error bound: 1.97916666666667e-9\n"
     ]
    }
   ],
   "source": [
    "# a)\n",
    "\n",
    "f = sqrt(1+x)\n",
    "Problem15(f, 0.0, 0.1)"
   ]
  },
  {
   "cell_type": "code",
   "execution_count": 5,
   "id": "77098f1f",
   "metadata": {},
   "outputs": [
    {
     "name": "stdout",
     "output_type": "stream",
     "text": [
      "Closed Newton-Cotes approximations\n",
      "n = 1 approximation: 0.785398163397448\n",
      "Error: 0\n",
      "Error bound: 0.645964097506246\n",
      "n = 2 approximation: 0.785398163397448\n",
      "Error: 2.22044604925031e-16\n",
      "Error bound: 0.0265642087487223\n",
      "n = 3 approximation: 0.785398163397448\n",
      "Error: 2.22044604925031e-16\n",
      "Error bound: 0.0118063149994321\n",
      "n = 4 approximation: 0.785398163397448\n",
      "Error: 0\n",
      "Error bound: 0.000390146177943224\n",
      "\n",
      "Open Newton-Cotes approximations\n",
      "n = 0 approximation: 0.785398163397448\n",
      "Error: 2.22044604925031e-16\n",
      "Error bound: 0.322982048753123\n",
      "n = 1 approximation: 0.785398163397448\n",
      "Error: 2.22044604925031e-16\n",
      "Error bound: 0.215321365835415\n",
      "n = 2 approximation: 0.785398163397448\n",
      "Error: 0\n",
      "Error bound: 0.0232436826551321\n",
      "n = 3 approximation: 0.785398163397448\n",
      "Error: 2.22044604925031e-16\n",
      "Error bound: 0.0161510389192232\n"
     ]
    }
   ],
   "source": [
    "# b)\n",
    "\n",
    "f = (sin(x))**2\n",
    "Problem15(f, 0.0, math.pi/2)"
   ]
  },
  {
   "cell_type": "code",
   "execution_count": 4,
   "id": "04d62fc8",
   "metadata": {},
   "outputs": [
    {
     "name": "stdout",
     "output_type": "stream",
     "text": [
      "Closed Newton-Cotes approximations\n",
      "n = 1 approximation: 1.49717101885690\n",
      "Error: 0.0196479724652681\n",
      "Error bound: 0.0239023417084697\n",
      "n = 2 approximation: 1.47753611765076\n",
      "Error: 1.30712591335236e-5\n",
      "Error bound: 1.59348944723131e-5\n",
      "n = 3 approximation: 1.47752885891182\n",
      "Error: 5.81252018938549e-6\n",
      "Error bound: 7.08217532102805e-6\n",
      "n = 4 approximation: 1.47752304950232\n",
      "Error: 3.11068659719638e-9\n",
      "Error bound: 3.79402249340788e-9\n",
      "\n",
      "Open Newton-Cotes approximations\n",
      "n = 0 approximation: 1.46771866704770\n",
      "Error: 0.00980437934393374\n",
      "Error bound: 0.0119511708542348\n",
      "n = 1 approximation: 1.47098147226346\n",
      "Error: 0.00654157412817002\n",
      "Error bound: 0.00796744723615655\n",
      "n = 2 approximation: 1.47751161487243\n",
      "Error: 1.14315192045744e-5\n",
      "Error bound: 1.39430326632740e-5\n",
      "n = 3 approximation: 1.47751510112139\n",
      "Error: 7.94527024128300e-6\n",
      "Error bound: 9.68841583916637e-6\n"
     ]
    }
   ],
   "source": [
    "# c)\n",
    "\n",
    "f = exp(x)\n",
    "Problem15(f, 1.1, 1.5)"
   ]
  },
  {
   "cell_type": "code",
   "execution_count": 6,
   "id": "9e69c638",
   "metadata": {},
   "outputs": [
    {
     "name": "stdout",
     "output_type": "stream",
     "text": [
      "Closed Newton-Cotes approximations\n",
      "n = 1 approximation: 0.500000000000000\n",
      "Error: 0.250000000000000\n",
      "Error bound: oo\n",
      "n = 2 approximation: 0.695800350656066\n",
      "Error: 0.0541996493439336\n",
      "Error bound: oo\n",
      "n = 3 approximation: 0.712603152157600\n",
      "Error: 0.0373968478423998\n",
      "Error bound: oo\n",
      "n = 4 approximation: 0.730634139949349\n",
      "Error: 0.0193658600506511\n",
      "Error bound: oo\n",
      "\n",
      "Open Newton-Cotes approximations\n",
      "n = 0 approximation: 0.793700525984100\n",
      "Error: 0.0437005259840998\n",
      "Error bound: oo\n",
      "n = 1 approximation: 0.783470869543467\n",
      "Error: 0.0334708695434668\n",
      "Error bound: oo\n",
      "n = 2 approximation: 0.761113705580971\n",
      "Error: 0.0111137055809710\n",
      "Error bound: oo\n",
      "n = 3 approximation: 0.759357225960260\n",
      "Error: 0.00935722596026012\n",
      "Error bound: oo\n"
     ]
    }
   ],
   "source": [
    " # d)\n",
    "    \n",
    "f = x ** (1.0/3)\n",
    "Problem15(f, 0.0, 1.0)"
   ]
  },
  {
   "cell_type": "code",
   "execution_count": null,
   "id": "d5096f6d",
   "metadata": {},
   "outputs": [],
   "source": []
  }
 ],
 "metadata": {
  "kernelspec": {
   "display_name": "Python 3 (ipykernel)",
   "language": "python",
   "name": "python3"
  },
  "language_info": {
   "codemirror_mode": {
    "name": "ipython",
    "version": 3
   },
   "file_extension": ".py",
   "mimetype": "text/x-python",
   "name": "python",
   "nbconvert_exporter": "python",
   "pygments_lexer": "ipython3",
   "version": "3.10.0"
  }
 },
 "nbformat": 4,
 "nbformat_minor": 5
}
