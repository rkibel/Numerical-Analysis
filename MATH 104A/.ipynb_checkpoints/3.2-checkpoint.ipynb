{
 "cells": [
  {
   "cell_type": "code",
   "execution_count": 1,
   "id": "45726946",
   "metadata": {},
   "outputs": [],
   "source": [
    "# 3.2\n",
    "\n",
    "import math\n",
    "import numpy as np\n",
    "\n",
    "def neville(x, vec_x, vec_f):\n",
    "    n = np.size(vec_x) - 1;\n",
    "    Q_table = np.zeros((n + 1, n + 1));\n",
    "    for i in range(n+1):\n",
    "        Q_table[i][0] = vec_f[i];\n",
    "    for j in range(1, n+1):\n",
    "        for i in range(j, n+1):\n",
    "            Q_table[i][j] = 0.0;\n",
    "            Q_table[i][j] += (x - vec_x[i - j])*Q_table[i][j - 1];\n",
    "            Q_table[i][j] -= (x - vec_x[i])*Q_table[i - 1][j - 1];\n",
    "            Q_table[i][j] /= (vec_x[i] - vec_x[i - j]);\n",
    "\n",
    "    return Q_table[n][n], Q_table; "
   ]
  },
  {
   "cell_type": "code",
   "execution_count": 2,
   "id": "470faf4e",
   "metadata": {},
   "outputs": [
    {
     "name": "stdout",
     "output_type": "stream",
     "text": [
      "degree 1 polynomial approximation of f(8.4): 17.878330000000002\n",
      "degree 2 polynomial approximation of f(8.4): 17.87713\n",
      "degree 3 polynomial approximation of f(8.4): 17.877142500000005\n"
     ]
    }
   ],
   "source": [
    "# Problem 1\n",
    "# a)\n",
    "\n",
    "# degree 1 polynomial\n",
    "vec_x = np.array([8.3, 8.6])\n",
    "vec_f = np.array([17.56492, 18.50515])\n",
    "print(\"degree 1 polynomial approximation of f(8.4):\", neville(8.4, vec_x, vec_f)[0])\n",
    "\n",
    "# degree 2 polynomial\n",
    "vec_x = np.array([8.1, 8.3, 8.6])\n",
    "vec_f = np.array([16.94410, 17.56492, 18.50515])\n",
    "print(\"degree 2 polynomial approximation of f(8.4):\", neville(8.4, vec_x, vec_f)[0])\n",
    "\n",
    "# degree 3 polynomial\n",
    "vec_x = np.array([8.1, 8.3, 8.6, 8.7])\n",
    "vec_f = np.array([16.94410, 17.56492, 18.50515, 18.82091])\n",
    "print(\"degree 3 polynomial approximation of f(8.4):\", neville(8.4, vec_x, vec_f)[0])"
   ]
  },
  {
   "cell_type": "code",
   "execution_count": 3,
   "id": "5485310f",
   "metadata": {},
   "outputs": [
    {
     "name": "stdout",
     "output_type": "stream",
     "text": [
      "degree 1 polynomial approximation of f(-1/3): 0.2150416666666667\n",
      "degree 2 polynomial approximation of f(-1/3): 0.16988888888888892\n",
      "degree 3 polynomial approximation of f(-1/3): 0.17451851851851855\n"
     ]
    }
   ],
   "source": [
    "# b)\n",
    "\n",
    "# degree 1 polynomial\n",
    "vec_x = np.array([-0.5, -0.25])\n",
    "vec_f = np.array([-0.02475000, 0.33493750])\n",
    "print(\"degree 1 polynomial approximation of f(-1/3):\", neville(-1.0/3, vec_x, vec_f)[0])\n",
    "\n",
    "# degree 2 polynomial\n",
    "vec_x = np.array([-0.5, -0.25, 0])\n",
    "vec_f = np.array([-0.02475000, 0.33493750, 1.10100000])\n",
    "print(\"degree 2 polynomial approximation of f(-1/3):\", neville(-1.0/3, vec_x, vec_f)[0])\n",
    "\n",
    "# degree 3 polynomial\n",
    "vec_x = np.array([-0.75, -0.5, -0.25, 0])\n",
    "vec_f = np.array([-0.07181250, -0.02475000, 0.33493750, 1.10100000])\n",
    "print(\"degree 3 polynomial approximation of f(-1/3):\", neville(-1.0/3, vec_x, vec_f)[0])"
   ]
  },
  {
   "cell_type": "code",
   "execution_count": 4,
   "id": "91516bf5",
   "metadata": {},
   "outputs": [
    {
     "name": "stdout",
     "output_type": "stream",
     "text": [
      "approximating sqrt(3) using Neville's method: 1.7083333333333335\n"
     ]
    }
   ],
   "source": [
    "# Problem 3\n",
    "# a)\n",
    "\n",
    "vec_x = np.array([-2.0, -1.0, 0, 1.0, 2.0])\n",
    "vec_f = 3 ** vec_x\n",
    "prob3a = neville(0.5, vec_x, vec_f)\n",
    "print(\"approximating sqrt(3) using Neville's method:\", prob3a[0])"
   ]
  },
  {
   "cell_type": "code",
   "execution_count": 5,
   "id": "23ad7f13",
   "metadata": {},
   "outputs": [
    {
     "name": "stdout",
     "output_type": "stream",
     "text": [
      "approximating sqrt(3) using Neville's method: 1.6906067646231164\n"
     ]
    }
   ],
   "source": [
    "# b)\n",
    "\n",
    "vec_x = np.array([0, 1.0, 2.0, 4.0, 5.0])\n",
    "vec_f = vec_x ** 0.5\n",
    "prob3b = neville(3, vec_x, vec_f)\n",
    "print(\"approximating sqrt(3) using Neville's method:\", prob3b[0])"
   ]
  },
  {
   "cell_type": "code",
   "execution_count": 6,
   "id": "513dbca3",
   "metadata": {},
   "outputs": [
    {
     "name": "stdout",
     "output_type": "stream",
     "text": [
      "error from part a: 0.023717474235543712\n",
      "error from part b: 0.04144404294576076\n"
     ]
    }
   ],
   "source": [
    "# c)\n",
    "\n",
    "\"\"\"\n",
    "Part a is slightly more accurate to the true value of sqrt(3) than part b. Even though we derive sqrt(3) using an interpolating\n",
    "polynomial of degree 4 for both parts, we get a slightly smaller absolute error for part a than for part b. Refer to the output\n",
    "below for this absolute error.\n",
    "\"\"\"\n",
    "error_3a = abs(prob3a[0] - math.sqrt(3))\n",
    "error_3b = abs(prob3b[0] - math.sqrt(3))\n",
    "print(\"error from part a:\", error_3a)\n",
    "print(\"error from part b:\", error_3b)"
   ]
  },
  {
   "cell_type": "code",
   "execution_count": 7,
   "id": "58bc1431",
   "metadata": {},
   "outputs": [
    {
     "name": "stdout",
     "output_type": "stream",
     "text": [
      "approximation for x-e^(-x) = 0 using iterated inverse interpolation: 0.5671423536413226\n"
     ]
    }
   ],
   "source": [
    "# Problem 12\n",
    "\n",
    "def f(x):\n",
    "    return x - math.e ** (-x)\n",
    "vec_f = np.array([0.3, 0.4, 0.5, 0.6])\n",
    "vec_x = f(vec_f)\n",
    "print(\"approximation for x-e^(-x) = 0 using iterated inverse interpolation:\", neville(0, vec_x, vec_f)[0])"
   ]
  }
 ],
 "metadata": {
  "kernelspec": {
   "display_name": "Python 3 (ipykernel)",
   "language": "python",
   "name": "python3"
  },
  "language_info": {
   "codemirror_mode": {
    "name": "ipython",
    "version": 3
   },
   "file_extension": ".py",
   "mimetype": "text/x-python",
   "name": "python",
   "nbconvert_exporter": "python",
   "pygments_lexer": "ipython3",
   "version": "3.10.0"
  }
 },
 "nbformat": 4,
 "nbformat_minor": 5
}
