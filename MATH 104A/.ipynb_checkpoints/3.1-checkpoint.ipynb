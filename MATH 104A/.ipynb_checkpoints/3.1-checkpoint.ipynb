{
 "cells": [
  {
   "cell_type": "code",
   "execution_count": 6,
   "id": "dab13766",
   "metadata": {},
   "outputs": [],
   "source": [
    "import numpy as np\n",
    "import math"
   ]
  },
  {
   "cell_type": "code",
   "execution_count": 28,
   "id": "5c3ead24",
   "metadata": {},
   "outputs": [],
   "source": [
    "# Problem 18\n",
    "# a)\n",
    "def erf(x, tol):\n",
    "    sum = x\n",
    "    p = x\n",
    "    k = 1\n",
    "    while abs(p) >= tol:\n",
    "        # print(\"k = \" + str(k) + \": \" + str(sum))\n",
    "        p = (-1)**k * (x**(2*k+1)) / (2*k+1) / math.factorial(k)\n",
    "        k+=1\n",
    "        sum+=p\n",
    "    return 2/math.sqrt(math.pi) * sum"
   ]
  },
  {
   "cell_type": "code",
   "execution_count": 32,
   "id": "a652c044",
   "metadata": {},
   "outputs": [
    {
     "name": "stdout",
     "output_type": "stream",
     "text": [
      "i \t x_i \t erf(x_i)\n",
      "0\t0.0\t0.0\n",
      "1\t0.2\t0.2227025892103802\n",
      "2\t0.4\t0.4283923550463901\n",
      "3\t0.6\t0.6038560908476106\n",
      "4\t0.8\t0.7421009647073198\n",
      "5\t1.0\t0.8427007929560061\n"
     ]
    }
   ],
   "source": [
    "print(\"i \\t x_i \\t erf(x_i)\")\n",
    "for i in range(6):\n",
    "    print(str(i) + '\\t' + str(round(i*0.2, 1)) + '\\t' + str(erf(0.2*i, 1e-10)))"
   ]
  },
  {
   "cell_type": "code",
   "execution_count": null,
   "id": "8ba3d5ff",
   "metadata": {},
   "outputs": [],
   "source": []
  }
 ],
 "metadata": {
  "kernelspec": {
   "display_name": "Python 3 (ipykernel)",
   "language": "python",
   "name": "python3"
  },
  "language_info": {
   "codemirror_mode": {
    "name": "ipython",
    "version": 3
   },
   "file_extension": ".py",
   "mimetype": "text/x-python",
   "name": "python",
   "nbconvert_exporter": "python",
   "pygments_lexer": "ipython3",
   "version": "3.10.0"
  }
 },
 "nbformat": 4,
 "nbformat_minor": 5
}
