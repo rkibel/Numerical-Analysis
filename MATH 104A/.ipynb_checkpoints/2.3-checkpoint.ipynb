{
 "cells": [
  {
   "cell_type": "code",
   "execution_count": 1,
   "id": "bb3d4e07",
   "metadata": {},
   "outputs": [],
   "source": [
    "import math\n",
    "import numpy as np\n",
    "from sympy import *\n",
    "\n",
    "def newtonsMethod(f, p0, tol, N):\n",
    "    global x\n",
    "    df = diff(f, x)\n",
    "    for i in range(N):\n",
    "        p = p0 - f.subs(x, p0) / df.subs(x, p0)\n",
    "        print(\"p\" + str(i+1) + \": \" + str(float(p)))\n",
    "        if abs(p - p0) < tol: \n",
    "            return\n",
    "        p0 = p\n",
    "        \n",
    "def secantMethod(f, p0, p1, tol, N):\n",
    "    i = 2\n",
    "    q0 = f.subs(x, p0)\n",
    "    q1 = f.subs(x, p1)\n",
    "    while i <= N:\n",
    "        p = p1-q1*(p1-p0)/(q1-q0)\n",
    "        print(\"p\" + str(i) + \": \" + str(float(p)))\n",
    "        if abs(p - p1) < tol: \n",
    "            return\n",
    "        i+=1\n",
    "        p0 = p1\n",
    "        p1 = p\n",
    "        q0 = q1\n",
    "        q1 = f.subs(x, p)\n",
    "        \n",
    "def falsePosition(f, p0, p1, tol, N):\n",
    "    i = 2\n",
    "    q0 = f.subs(x, p0)\n",
    "    q1 = f.subs(x, p1)\n",
    "    while i <= N:\n",
    "        p = p1-q1*(p1-p0)/(q1-q0)\n",
    "        print(\"p\" + str(i) + \": \" + str(float(p)))\n",
    "        if abs(p - p1) < tol: \n",
    "            return\n",
    "        i += 1\n",
    "        q = f.subs(x, p)\n",
    "        if q * q1 < 0:\n",
    "            p0 = p1\n",
    "            q0 = q1\n",
    "        p1 = p\n",
    "        q1 = q"
   ]
  },
  {
   "cell_type": "code",
   "execution_count": 2,
   "id": "1ea324b0",
   "metadata": {},
   "outputs": [],
   "source": [
    "# 2.3"
   ]
  },
  {
   "cell_type": "code",
   "execution_count": 16,
   "id": "a0c6dd12",
   "metadata": {
    "scrolled": true
   },
   "outputs": [
    {
     "name": "stdout",
     "output_type": "stream",
     "text": [
      "p1: 3.5\n",
      "p2: 2.607142857142857\n"
     ]
    }
   ],
   "source": [
    "# Problem 1\n",
    "x = symbols('x')\n",
    "f = x**2 - 6\n",
    "newtonsMethod(f, 1, 1e-5, 2)"
   ]
  },
  {
   "cell_type": "code",
   "execution_count": 4,
   "id": "2273f86d",
   "metadata": {
    "scrolled": false
   },
   "outputs": [
    {
     "name": "stdout",
     "output_type": "stream",
     "text": [
      "p2: 2.4\n",
      "p3: 2.4545454545454546\n"
     ]
    }
   ],
   "source": [
    "# Problem 3\n",
    "# a)\n",
    "secantMethod(f, 3, 2, 1e-5, 3)"
   ]
  },
  {
   "cell_type": "code",
   "execution_count": 5,
   "id": "9f3fa72e",
   "metadata": {},
   "outputs": [
    {
     "name": "stdout",
     "output_type": "stream",
     "text": [
      "p2: 2.4\n",
      "p3: 2.4444444444444446\n"
     ]
    }
   ],
   "source": [
    "# b)\n",
    "falsePosition(f, 3, 2, 1e-5, 3)"
   ]
  },
  {
   "cell_type": "code",
   "execution_count": 6,
   "id": "4467e370",
   "metadata": {},
   "outputs": [
    {
     "name": "stdout",
     "output_type": "stream",
     "text": [
      "p1: 3.25\n",
      "p2: 2.811036789297659\n",
      "p3: 2.697989502468529\n",
      "p4: 2.6906771528603617\n",
      "p5: 2.690647448517619\n",
      "p6: 2.6906474480286136\n"
     ]
    }
   ],
   "source": [
    "# Problem 5\n",
    "# a)\n",
    "f = x**3 - 2*x**2 - 5\n",
    "newtonsMethod(f, 2, 1e-5, 10)"
   ]
  },
  {
   "cell_type": "code",
   "execution_count": 7,
   "id": "2d504123",
   "metadata": {},
   "outputs": [
    {
     "name": "stdout",
     "output_type": "stream",
     "text": [
      "p1: -3.0666666666666664\n",
      "p2: -2.9008756038647343\n",
      "p3: -2.879719904423836\n",
      "p4: -2.87938532466927\n",
      "p5: -2.879385241571822\n"
     ]
    }
   ],
   "source": [
    "# b)\n",
    "f = x**3 + 3*x**2 - 1\n",
    "newtonsMethod(f, -2.5, 1e-5, 10)"
   ]
  },
  {
   "cell_type": "code",
   "execution_count": 11,
   "id": "b51dc644",
   "metadata": {},
   "outputs": [
    {
     "name": "stdout",
     "output_type": "stream",
     "text": [
      "p1: 0.7395361335152383\n",
      "p2: 0.7390851781060102\n",
      "p3: 0.7390851332151611\n"
     ]
    }
   ],
   "source": [
    "# c)\n",
    "f = x-cos(x)\n",
    "newtonsMethod(f, math.pi/4, 1e-5, 10)"
   ]
  },
  {
   "cell_type": "code",
   "execution_count": 13,
   "id": "319487ed",
   "metadata": {},
   "outputs": [
    {
     "name": "stdout",
     "output_type": "stream",
     "text": [
      "p1: 0.9671208209237235\n",
      "p2: 0.9643346085485506\n",
      "p3: 0.9643338876952708\n"
     ]
    }
   ],
   "source": [
    "# d)\n",
    "f = x - 0.8 - 0.2*sin(x)\n",
    "newtonsMethod(f, math.pi/4, 1e-5, 10)"
   ]
  },
  {
   "cell_type": "code",
   "execution_count": 25,
   "id": "a6191e98",
   "metadata": {},
   "outputs": [
    {
     "name": "stdout",
     "output_type": "stream",
     "text": [
      "p1: 0.5754731755898997\n",
      "p2: 0.5754730121944173\n"
     ]
    }
   ],
   "source": [
    "# Problem 29\n",
    "# a)\n",
    "l = 89\n",
    "h = 49\n",
    "D = 55\n",
    "b1 = math.radians(11.5)\n",
    "A = l * sin(b1)\n",
    "B = l * cos(b1)\n",
    "C = (h + 0.5*D)*sin(b1) - 0.5*D*tan(b1)\n",
    "E = (h + 0.5*D)*cos(b1) - 0.5*D\n",
    "f = A*sin(x)*cos(x) + B*sin(x)*sin(x) - C*cos(x) - E*sin(x)\n",
    "newtonsMethod(f, math.radians(33), 1e-5, 10)"
   ]
  },
  {
   "cell_type": "code",
   "execution_count": 27,
   "id": "bbf9474f",
   "metadata": {},
   "outputs": [
    {
     "data": {
      "text/plain": [
       "32.97217482242067"
      ]
     },
     "execution_count": 27,
     "metadata": {},
     "output_type": "execute_result"
    }
   ],
   "source": [
    "math.degrees(0.5754730121944173)"
   ]
  },
  {
   "cell_type": "code",
   "execution_count": 31,
   "id": "9a6959ae",
   "metadata": {},
   "outputs": [
    {
     "name": "stdout",
     "output_type": "stream",
     "text": [
      "p1: 0.578912607784317\n",
      "p2: 0.5789065809672739\n"
     ]
    }
   ],
   "source": [
    "# b)\n",
    "D = 30\n",
    "C = (h + 0.5*D)*sin(b1) - 0.5*D*tan(b1)\n",
    "E = (h + 0.5*D)*cos(b1) - 0.5*D\n",
    "f = A*sin(x)*cos(x) + B*sin(x)*sin(x) - C*cos(x) - E*sin(x)\n",
    "newtonsMethod(f, math.radians(33), 1e-5, 10)"
   ]
  },
  {
   "cell_type": "code",
   "execution_count": 32,
   "id": "07833de7",
   "metadata": {},
   "outputs": [
    {
     "data": {
      "text/plain": [
       "33.16890382177326"
      ]
     },
     "execution_count": 32,
     "metadata": {},
     "output_type": "execute_result"
    }
   ],
   "source": [
    "math.degrees(0.5789065809672739)"
   ]
  },
  {
   "cell_type": "code",
   "execution_count": null,
   "id": "9ef96381",
   "metadata": {},
   "outputs": [],
   "source": []
  }
 ],
 "metadata": {
  "kernelspec": {
   "display_name": "Python 3 (ipykernel)",
   "language": "python",
   "name": "python3"
  },
  "language_info": {
   "codemirror_mode": {
    "name": "ipython",
    "version": 3
   },
   "file_extension": ".py",
   "mimetype": "text/x-python",
   "name": "python",
   "nbconvert_exporter": "python",
   "pygments_lexer": "ipython3",
   "version": "3.10.0"
  }
 },
 "nbformat": 4,
 "nbformat_minor": 5
}
